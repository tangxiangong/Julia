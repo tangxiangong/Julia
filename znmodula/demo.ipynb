{
 "cells": [
  {
   "cell_type": "markdown",
   "id": "48002270-f3f0-47d4-a14c-f67d5899a2d3",
   "metadata": {},
   "source": [
    "# Julia 实现"
   ]
  },
  {
   "cell_type": "code",
   "execution_count": 1,
   "id": "813fb4c2-d4b8-42d1-8d3a-f6c422a9f9b2",
   "metadata": {},
   "outputs": [],
   "source": [
    "import Base:show, +, -, *, ==, zero, one, oneunit, rand"
   ]
  },
  {
   "cell_type": "code",
   "execution_count": 2,
   "id": "c974edd4-9a9b-4682-a85a-33945afbd4c5",
   "metadata": {},
   "outputs": [
    {
     "data": {
      "text/plain": [
       "rand (generic function with 83 methods)"
      ]
     },
     "execution_count": 2,
     "metadata": {},
     "output_type": "execute_result"
    }
   ],
   "source": [
    "struct ℤ{N}\n",
    "    buffer::Int\n",
    "    N::Int\n",
    "    value::Int\n",
    "    function ℤ{N}(buffer::Int) where N\n",
    "        value = buffer % N\n",
    "        new{N}(buffer, N, value)\n",
    "    end\n",
    "end\n",
    "\n",
    "show(io::IO, ::MIME\"text/plain\", n::ℤ{N}) where N = print(io, \"$(n.value)(mod $(n.N))\")\n",
    "zero(::Type{ℤ{N}}) where N = ℤ{N}(0)\n",
    "one(::Type{ℤ{N}}) where N = ℤ{N}(1)\n",
    "zero(::ℤ{N}) where N = zero(ℤ{N})\n",
    "oneunit(T::Type{ℤ{N}}) where N = one(T)\n",
    "-(num::ℤ{N}) where N = ℤ{N}(N-num.value)\n",
    "+(lhs::ℤ{N}, rhs::ℤ{N}) where N = ℤ{N}(lhs.value + rhs.value)\n",
    "-(lhs::ℤ{N}, rhs::ℤ{N}) where N = lhs + (-rhs)\n",
    "*(lhs::ℤ{N}, rhs::ℤ{N}) where N = ℤ{N}(lhs.value * rhs.value)\n",
    "function rand(::Type{ℤ{N}}, dims::Tuple{Vararg{Int64, M}}) where {N, M}\n",
    "    nums = [ℤ{N}(n) for n in 0:N-1]\n",
    "    rand(nums, dims)\n",
    "end"
   ]
  },
  {
   "cell_type": "code",
   "execution_count": 3,
   "id": "e6e48b68-ba77-4aa9-aeb0-ef864d1d1707",
   "metadata": {},
   "outputs": [],
   "source": [
    "A = rand(ℤ{6}, (4_000, 2_000)); b = rand(ℤ{6}, (2_000,));"
   ]
  },
  {
   "cell_type": "code",
   "execution_count": 4,
   "id": "2c405988-dff9-4866-b556-3d64d4b017d7",
   "metadata": {},
   "outputs": [
    {
     "data": {
      "text/plain": [
       "BenchmarkTools.Trial: 206 samples with 1 evaluation.\n",
       " Range \u001b[90m(\u001b[39m\u001b[36m\u001b[1mmin\u001b[22m\u001b[39m … \u001b[35mmax\u001b[39m\u001b[90m):  \u001b[39m\u001b[36m\u001b[1m22.040 ms\u001b[22m\u001b[39m … \u001b[35m31.665 ms\u001b[39m  \u001b[90m┊\u001b[39m GC \u001b[90m(\u001b[39mmin … max\u001b[90m): \u001b[39m0.00% … 0.00%\n",
       " Time  \u001b[90m(\u001b[39m\u001b[34m\u001b[1mmedian\u001b[22m\u001b[39m\u001b[90m):     \u001b[39m\u001b[34m\u001b[1m23.747 ms              \u001b[22m\u001b[39m\u001b[90m┊\u001b[39m GC \u001b[90m(\u001b[39mmedian\u001b[90m):    \u001b[39m0.00%\n",
       " Time  \u001b[90m(\u001b[39m\u001b[32m\u001b[1mmean\u001b[22m\u001b[39m ± \u001b[32mσ\u001b[39m\u001b[90m):   \u001b[39m\u001b[32m\u001b[1m24.311 ms\u001b[22m\u001b[39m ± \u001b[32m 1.389 ms\u001b[39m  \u001b[90m┊\u001b[39m GC \u001b[90m(\u001b[39mmean ± σ\u001b[90m):  \u001b[39m0.00% ± 0.00%\n",
       "\n",
       "  \u001b[39m \u001b[39m \u001b[39m \u001b[39m \u001b[39m \u001b[39m \u001b[39m \u001b[39m \u001b[39m \u001b[39m \u001b[39m \u001b[39m█\u001b[39m█\u001b[39m▅\u001b[34m \u001b[39m\u001b[39m \u001b[39m \u001b[39m \u001b[39m \u001b[32m \u001b[39m\u001b[39m \u001b[39m \u001b[39m \u001b[39m \u001b[39m \u001b[39m \u001b[39m \u001b[39m \u001b[39m \u001b[39m \u001b[39m \u001b[39m \u001b[39m \u001b[39m \u001b[39m \u001b[39m \u001b[39m \u001b[39m \u001b[39m \u001b[39m \u001b[39m \u001b[39m \u001b[39m \u001b[39m \u001b[39m \u001b[39m \u001b[39m \u001b[39m \u001b[39m \u001b[39m \u001b[39m \u001b[39m \u001b[39m \u001b[39m \u001b[39m \u001b[39m \u001b[39m \u001b[39m \u001b[39m \u001b[39m \u001b[39m \n",
       "  \u001b[39m▂\u001b[39m▃\u001b[39m▁\u001b[39m▁\u001b[39m▁\u001b[39m▁\u001b[39m▁\u001b[39m▂\u001b[39m▄\u001b[39m▃\u001b[39m█\u001b[39m█\u001b[39m█\u001b[39m█\u001b[34m▆\u001b[39m\u001b[39m▇\u001b[39m█\u001b[39m▄\u001b[39m▄\u001b[32m▅\u001b[39m\u001b[39m▄\u001b[39m▃\u001b[39m▄\u001b[39m▂\u001b[39m▄\u001b[39m▅\u001b[39m▄\u001b[39m▃\u001b[39m▂\u001b[39m▃\u001b[39m▃\u001b[39m▁\u001b[39m▁\u001b[39m▁\u001b[39m▁\u001b[39m▃\u001b[39m▁\u001b[39m▃\u001b[39m▁\u001b[39m▁\u001b[39m▃\u001b[39m▁\u001b[39m▁\u001b[39m▂\u001b[39m▃\u001b[39m▁\u001b[39m▁\u001b[39m▁\u001b[39m▂\u001b[39m▁\u001b[39m▂\u001b[39m▂\u001b[39m▂\u001b[39m▁\u001b[39m▁\u001b[39m▃\u001b[39m▁\u001b[39m▁\u001b[39m▂\u001b[39m \u001b[39m▃\n",
       "  22 ms\u001b[90m           Histogram: frequency by time\u001b[39m        29.3 ms \u001b[0m\u001b[1m<\u001b[22m\n",
       "\n",
       " Memory estimate\u001b[90m: \u001b[39m\u001b[33m93.80 KiB\u001b[39m, allocs estimate\u001b[90m: \u001b[39m\u001b[33m2\u001b[39m."
      ]
     },
     "execution_count": 4,
     "metadata": {},
     "output_type": "execute_result"
    }
   ],
   "source": [
    "using BenchmarkTools\n",
    "@benchmark $A*$b"
   ]
  },
  {
   "cell_type": "code",
   "execution_count": 5,
   "id": "c894251e-3d3d-4f84-9793-f23f7e8cf4aa",
   "metadata": {},
   "outputs": [],
   "source": [
    "C = rand(4_000, 2_000); d = rand(2_000);"
   ]
  },
  {
   "cell_type": "code",
   "execution_count": 6,
   "id": "581112ca-27ad-484f-a1d7-1560f5fcb80e",
   "metadata": {},
   "outputs": [
    {
     "data": {
      "text/plain": [
       "BenchmarkTools.Trial: 3214 samples with 1 evaluation.\n",
       " Range \u001b[90m(\u001b[39m\u001b[36m\u001b[1mmin\u001b[22m\u001b[39m … \u001b[35mmax\u001b[39m\u001b[90m):  \u001b[39m\u001b[36m\u001b[1m1.256 ms\u001b[22m\u001b[39m … \u001b[35m  4.713 ms\u001b[39m  \u001b[90m┊\u001b[39m GC \u001b[90m(\u001b[39mmin … max\u001b[90m): \u001b[39m0.00% … 0.00%\n",
       " Time  \u001b[90m(\u001b[39m\u001b[34m\u001b[1mmedian\u001b[22m\u001b[39m\u001b[90m):     \u001b[39m\u001b[34m\u001b[1m1.456 ms               \u001b[22m\u001b[39m\u001b[90m┊\u001b[39m GC \u001b[90m(\u001b[39mmedian\u001b[90m):    \u001b[39m0.00%\n",
       " Time  \u001b[90m(\u001b[39m\u001b[32m\u001b[1mmean\u001b[22m\u001b[39m ± \u001b[32mσ\u001b[39m\u001b[90m):   \u001b[39m\u001b[32m\u001b[1m1.537 ms\u001b[22m\u001b[39m ± \u001b[32m299.385 μs\u001b[39m  \u001b[90m┊\u001b[39m GC \u001b[90m(\u001b[39mmean ± σ\u001b[90m):  \u001b[39m0.00% ± 0.00%\n",
       "\n",
       "  \u001b[39m \u001b[39m█\u001b[39m█\u001b[39m▄\u001b[39m \u001b[39m \u001b[39m \u001b[39m \u001b[39m \u001b[34m \u001b[39m\u001b[39m \u001b[39m \u001b[32m \u001b[39m\u001b[39m \u001b[39m \u001b[39m \u001b[39m \u001b[39m \u001b[39m \u001b[39m \u001b[39m \u001b[39m \u001b[39m \u001b[39m \u001b[39m \u001b[39m \u001b[39m \u001b[39m \u001b[39m \u001b[39m \u001b[39m \u001b[39m \u001b[39m \u001b[39m \u001b[39m \u001b[39m \u001b[39m \u001b[39m \u001b[39m \u001b[39m \u001b[39m \u001b[39m \u001b[39m \u001b[39m \u001b[39m \u001b[39m \u001b[39m \u001b[39m \u001b[39m \u001b[39m \u001b[39m \u001b[39m \u001b[39m \u001b[39m \u001b[39m \u001b[39m \u001b[39m \u001b[39m \u001b[39m \u001b[39m \u001b[39m \n",
       "  \u001b[39m▆\u001b[39m█\u001b[39m█\u001b[39m█\u001b[39m█\u001b[39m▇\u001b[39m▆\u001b[39m▅\u001b[39m▆\u001b[34m▆\u001b[39m\u001b[39m▆\u001b[39m▅\u001b[32m▆\u001b[39m\u001b[39m▅\u001b[39m▅\u001b[39m▅\u001b[39m▅\u001b[39m▅\u001b[39m▅\u001b[39m▅\u001b[39m▅\u001b[39m▅\u001b[39m▅\u001b[39m▄\u001b[39m▄\u001b[39m▄\u001b[39m▃\u001b[39m▃\u001b[39m▃\u001b[39m▃\u001b[39m▃\u001b[39m▃\u001b[39m▃\u001b[39m▃\u001b[39m▂\u001b[39m▃\u001b[39m▂\u001b[39m▂\u001b[39m▂\u001b[39m▂\u001b[39m▂\u001b[39m▂\u001b[39m▂\u001b[39m▂\u001b[39m▂\u001b[39m▂\u001b[39m▂\u001b[39m▂\u001b[39m▂\u001b[39m▁\u001b[39m▁\u001b[39m▂\u001b[39m▂\u001b[39m▂\u001b[39m▁\u001b[39m▁\u001b[39m▂\u001b[39m▂\u001b[39m▂\u001b[39m \u001b[39m▃\n",
       "  1.26 ms\u001b[90m         Histogram: frequency by time\u001b[39m        2.61 ms \u001b[0m\u001b[1m<\u001b[22m\n",
       "\n",
       " Memory estimate\u001b[90m: \u001b[39m\u001b[33m31.30 KiB\u001b[39m, allocs estimate\u001b[90m: \u001b[39m\u001b[33m2\u001b[39m."
      ]
     },
     "execution_count": 6,
     "metadata": {},
     "output_type": "execute_result"
    }
   ],
   "source": [
    "@benchmark $C*$d"
   ]
  },
  {
   "cell_type": "markdown",
   "id": "adc59891-3050-4b04-988d-86d641f3635c",
   "metadata": {},
   "source": [
    "# Python 实现"
   ]
  },
  {
   "cell_type": "code",
   "execution_count": 1,
   "id": "de500777-c599-4801-b096-55d7f6cd61d7",
   "metadata": {},
   "outputs": [],
   "source": [
    "class Mod(object):\n",
    "    def __init__(self, buffer, mod):\n",
    "        assert(isinstance(buffer, int) and isinstance(mod, int))\n",
    "        self.buffer = buffer\n",
    "        self.mod = mod\n",
    "        self.value = buffer % mod\n",
    "    def __repr__(self):\n",
    "        return f\"{self.value}(mod {self.mod})\"\n",
    "    def __add__(self, rhs):\n",
    "        assert(self.mod == rhs.mod)\n",
    "        return Mod(self.value+rhs.value, self.mod)\n",
    "    def __neg__(self):\n",
    "        return Mod(self.mod-self.value, self.mod)\n",
    "    def __sub__(self, rhs):\n",
    "        return self + (-rhs)\n",
    "    def __mul__(self, rhs):\n",
    "        assert(self.mod == rhs.mod)\n",
    "        return Mod(self.value*rhs.value, self.mod)"
   ]
  },
  {
   "cell_type": "code",
   "execution_count": 2,
   "id": "d93dc16d-1ca6-4cf4-86d7-2b6dcedf05fd",
   "metadata": {},
   "outputs": [],
   "source": [
    "import numpy as np\n",
    "from numpy.random import choice"
   ]
  },
  {
   "cell_type": "code",
   "execution_count": 3,
   "id": "4a7a98ab-460f-4841-a606-1be5ab7bf292",
   "metadata": {},
   "outputs": [],
   "source": [
    "def rand(mod, *args):\n",
    "    nums = [Mod(n, mod) for n in range(mod)]\n",
    "    return choice(nums, size=args)"
   ]
  },
  {
   "cell_type": "code",
   "execution_count": 4,
   "id": "eaf3db0b-dae4-4be1-9fad-ab9de388fe4e",
   "metadata": {},
   "outputs": [],
   "source": [
    "A = rand(5, 4_000, 2_000); b = rand(5, 2_000)"
   ]
  },
  {
   "cell_type": "code",
   "execution_count": 5,
   "id": "f63b4af5-db41-44a5-9385-e7721ea8b8aa",
   "metadata": {},
   "outputs": [
    {
     "name": "stdout",
     "output_type": "stream",
     "text": [
      "4.55 s ± 22 ms per loop (mean ± std. dev. of 7 runs, 1 loop each)\n"
     ]
    }
   ],
   "source": [
    "%timeit A@b"
   ]
  },
  {
   "cell_type": "code",
   "execution_count": 6,
   "id": "8971d825-4041-4e0f-a2ed-65a4a730f8be",
   "metadata": {},
   "outputs": [],
   "source": [
    "C = np.random.rand(4_000, 2_000); d = np.random.rand(2_000)"
   ]
  },
  {
   "cell_type": "code",
   "execution_count": 7,
   "id": "28fdb7ad-19eb-4f0a-b8c9-74bca20b14fe",
   "metadata": {},
   "outputs": [
    {
     "name": "stdout",
     "output_type": "stream",
     "text": [
      "1.52 ms ± 30.7 µs per loop (mean ± std. dev. of 7 runs, 1,000 loops each)\n"
     ]
    }
   ],
   "source": [
    "%timeit C@d"
   ]
  }
 ],
 "metadata": {
  "kernelspec": {
   "display_name": "Julia 1.10.0-rc1",
   "language": "julia",
   "name": "julia-1.10"
  },
  "language_info": {
   "file_extension": ".jl",
   "mimetype": "application/julia",
   "name": "julia",
   "version": "1.10.0"
  }
 },
 "nbformat": 4,
 "nbformat_minor": 5
}
