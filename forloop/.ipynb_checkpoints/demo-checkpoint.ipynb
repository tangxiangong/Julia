{
 "cells": [
  {
   "cell_type": "code",
   "execution_count": 1,
   "id": "88d18cef-319c-4446-ae9e-e9e6c74f6a24",
   "metadata": {},
   "outputs": [],
   "source": [
    "import numpy as np\n",
    "from numba import njit"
   ]
  },
  {
   "cell_type": "code",
   "execution_count": 2,
   "id": "715f23aa-f275-47fc-81cd-08fba446f99e",
   "metadata": {},
   "outputs": [],
   "source": [
    "def serial(x):\n",
    "    y = 0.0\n",
    "    n = x.size\n",
    "    for k in range(n):\n",
    "        y += np.sin(x[k]) * np.sin(x[k]) + np.cos(x[k]) * np.cos(x[k])\n",
    "    y /= n\n",
    "    return y\n",
    "\n",
    "@njit\n",
    "def serial_numba(x):\n",
    "    y = 0.0\n",
    "    n = x.size\n",
    "    for k in range(n):\n",
    "        y += np.sin(x[k]) * np.sin(x[k]) + np.cos(x[k]) * np.cos(x[k])\n",
    "    y /= n\n",
    "    return y"
   ]
  },
  {
   "cell_type": "code",
   "execution_count": 3,
   "id": "bc7816d9-2128-4532-b906-a4b1fae8f329",
   "metadata": {},
   "outputs": [
    {
     "name": "stdout",
     "output_type": "stream",
     "text": [
      "Python for 循环\n",
      "3.81 s ± 46.1 ms per loop (mean ± std. dev. of 7 runs, 1 loop each)\n",
      "Numba for 循环\n",
      "5.96 ms ± 173 µs per loop (mean ± std. dev. of 7 runs, 100 loops each)\n",
      "Numpy 向量化\n",
      "33.9 ms ± 242 µs per loop (mean ± std. dev. of 7 runs, 10 loops each)\n"
     ]
    }
   ],
   "source": [
    "n = 1_000_000\n",
    "x = np.random.rand(n)\n",
    "serial_numba(np.random.rand(10))\n",
    "\n",
    "print(\"Python for 循环\")\n",
    "%timeit serial(x)\n",
    "\n",
    "print(\"Numba for 循环\")\n",
    "%timeit serial_numba(x)\n",
    "\n",
    "print(\"Numpy 向量化\")\n",
    "%timeit (np.dot(np.sin(x), np.sin(x)) + np.dot(np.cos(x), np.cos(x)))/len(x)"
   ]
  },
  {
   "cell_type": "code",
   "execution_count": 1,
   "id": "3c7eb8a0-3b65-4e71-8f33-b73f3c6cdf41",
   "metadata": {},
   "outputs": [
    {
     "data": {
      "text/plain": [
       "serial (generic function with 1 method)"
      ]
     },
     "execution_count": 1,
     "metadata": {},
     "output_type": "execute_result"
    }
   ],
   "source": [
    "using BenchmarkTools, LinearAlgebra, LoopVectorization\n",
    "\n",
    "function serial(x)\n",
    "    y = 0.0\n",
    "    @turbo for k in eachindex(x)\n",
    "        y += sin(x[k]) * sin(x[k]) + cos(x[k]) * cos(x[k])\n",
    "    end\n",
    "    y /= length(x)\n",
    "    return y\n",
    "end"
   ]
  },
  {
   "cell_type": "code",
   "execution_count": 2,
   "id": "e3bf6799-8700-40ba-932d-c74f8b5c00cf",
   "metadata": {},
   "outputs": [
    {
     "name": "stdout",
     "output_type": "stream",
     "text": [
      "Julia SIMD for 循环\n",
      "  2.035 ms (0 allocations: 0 bytes)\n",
      "Julia 向量化\n",
      "  31.292 ms (8 allocations: 30.52 MiB)\n"
     ]
    }
   ],
   "source": [
    "n = 1_000_000\n",
    "x = rand(n)\n",
    "\n",
    "println(\"Julia SIMD for 循环\")\n",
    "@btime serial($x);\n",
    "\n",
    "println(\"Julia 向量化\")\n",
    "@btime (sin.($x) ⋅ sin.($x) + cos.($x) ⋅ cos.($x))/length($x);"
   ]
  },
  {
   "cell_type": "code",
   "execution_count": null,
   "id": "749eb3c4-d180-4bd9-994c-8cf71aacd00f",
   "metadata": {},
   "outputs": [],
   "source": []
  }
 ],
 "metadata": {
  "kernelspec": {
   "display_name": "Julia 1.10.0-rc1",
   "language": "julia",
   "name": "julia-1.10"
  },
  "language_info": {
   "file_extension": ".jl",
   "mimetype": "application/julia",
   "name": "julia",
   "version": "1.10.0"
  }
 },
 "nbformat": 4,
 "nbformat_minor": 5
}
