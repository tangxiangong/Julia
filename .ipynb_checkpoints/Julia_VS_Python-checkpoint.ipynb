{
 "cells": [
  {
   "cell_type": "code",
   "execution_count": 28,
   "id": "c0d951c5-9872-4c3b-a257-7d7079ec0180",
   "metadata": {},
   "outputs": [],
   "source": [
    "import numpy as np\n",
    "from scipy import sparse as sp\n",
    "from scipy.sparse.linalg import spsolve"
   ]
  },
  {
   "cell_type": "code",
   "execution_count": 31,
   "id": "47adef07-5341-4299-b5d1-88e3923ed99a",
   "metadata": {},
   "outputs": [],
   "source": [
    "def solver(T, a, b, tau, h, f, u0):\n",
    "    t = np.arange(0, T+tau, tau)\n",
    "    x = np.arange(a, b+h, h)\n",
    "    M = x.size - 2\n",
    "    r = tau/h**2\n",
    "    Delta_h = sp.diags(-2*np.ones(M)) + sp.diags(np.ones(M-1), 1) + sp.diags(np.ones(M-1), -1)\n",
    "    A = sp.eye(M) - r * Delta_h\n",
    "    N = t.size\n",
    "    u = np.zeros((N, M))\n",
    "    b = np.zeros(M)\n",
    "    u[0, :] = u0(x[1:-1])\n",
    "    for n in range(1, N):\n",
    "        b[:] = u[n-1, :] + tau * f(x[1:-1], t[n])\n",
    "        u[n, :] = spsolve(A, b)\n",
    "    return t, x, u"
   ]
  },
  {
   "cell_type": "code",
   "execution_count": 30,
   "id": "e711cb33-b41b-4504-be58-45fbdab08059",
   "metadata": {},
   "outputs": [],
   "source": [
    "def u_e(x, t):\n",
    "    return np.exp(-t) * np.sin(np.pi * x)\n",
    "def u0(x):\n",
    "    return np.sin(np.pi * x)\n",
    "def f(x, t):\n",
    "    return (np.pi ** 2 - 1) * np.exp(-t) * np.sin(np.pi * x)"
   ]
  },
  {
   "cell_type": "code",
   "execution_count": 32,
   "id": "3568b3c5-fb2a-4feb-979c-50fb830dc31d",
   "metadata": {},
   "outputs": [],
   "source": [
    "t, x, u = solver(1, 0, 1, 1/64, 1/64, f, u0)"
   ]
  },
  {
   "cell_type": "code",
   "execution_count": 35,
   "id": "e70b4c5a-f9a7-43a2-aaba-002a0ab3a42c",
   "metadata": {},
   "outputs": [
    {
     "data": {
      "text/plain": [
       "0.0023094557947220653"
      ]
     },
     "execution_count": 35,
     "metadata": {},
     "output_type": "execute_result"
    }
   ],
   "source": [
    "np.linalg.norm(u_e(x[1:-1], t[-1])-u[-1, :])"
   ]
  },
  {
   "cell_type": "code",
   "execution_count": 37,
   "id": "1af91e72-4fdf-4c04-9b98-14e9583bedb5",
   "metadata": {},
   "outputs": [
    {
     "name": "stdout",
     "output_type": "stream",
     "text": [
      "96.2 ms ± 1.23 ms per loop (mean ± std. dev. of 7 runs, 10 loops each)\n"
     ]
    }
   ],
   "source": [
    "%timeit solver(1, 0, 1, 1/512, 1/512, f, u0)"
   ]
  },
  {
   "cell_type": "code",
   "execution_count": 1,
   "id": "cf20df78-ab06-49e9-b32e-0eabd818797b",
   "metadata": {},
   "outputs": [],
   "source": [
    "using LinearAlgebra, SparseArrays"
   ]
  },
  {
   "cell_type": "code",
   "execution_count": 28,
   "id": "9bae5568-1929-464d-b36a-cf54f6d9a47b",
   "metadata": {},
   "outputs": [
    {
     "data": {
      "text/plain": [
       "solver (generic function with 1 method)"
      ]
     },
     "execution_count": 28,
     "metadata": {},
     "output_type": "execute_result"
    }
   ],
   "source": [
    "function solver(T, a, b, τ, h, f, u₀)\n",
    "    t = collect(0:τ:T)\n",
    "    x = collect(a:h:b)\n",
    "    x_ = @view x[begin+1:end-1]\n",
    "    M = length(x) - 2\n",
    "    r = τ/h^2\n",
    "    Δₕ = spdiagm(-1=>ones(M-1), 0=>-2*ones(M), 1=>ones(M-1))\n",
    "    A = I - r * Δₕ\n",
    "    N = length(t)\n",
    "    u = zeros(M, N)\n",
    "    b = zeros(M)\n",
    "    @. u[:, 1] = u₀(x_)\n",
    "    @inbounds for n in firstindex(t)+1:lastindex(t)\n",
    "        @. b[:] = u[:, n-1] + τ * f(x_, t[n])\n",
    "        u[:, n] .= A\\b\n",
    "    end\n",
    "    return t, x, u\n",
    "end"
   ]
  },
  {
   "cell_type": "code",
   "execution_count": 8,
   "id": "8dd2ab72-bb93-4c58-97e9-009a223b0350",
   "metadata": {},
   "outputs": [
    {
     "data": {
      "text/plain": [
       "f (generic function with 1 method)"
      ]
     },
     "execution_count": 8,
     "metadata": {},
     "output_type": "execute_result"
    }
   ],
   "source": [
    "uₑ(x, t) = exp(-t) * sinpi(x)\n",
    "u₀(x) = sinpi(x)\n",
    "f(x, t) = (π^2 - 1) * exp(-t) * sinpi(x)"
   ]
  },
  {
   "cell_type": "code",
   "execution_count": 29,
   "id": "8a290fdd-6e82-4b93-9263-42065c9eacb2",
   "metadata": {},
   "outputs": [],
   "source": [
    "t, x, u = solver(1, 0, 1, 1/64, 1/64, f, u₀);"
   ]
  },
  {
   "cell_type": "code",
   "execution_count": 30,
   "id": "c0b8d1c5-eac6-4c91-a8ba-fd8c59b7dd27",
   "metadata": {},
   "outputs": [
    {
     "data": {
      "text/plain": [
       "0.002309455794769345"
      ]
     },
     "execution_count": 30,
     "metadata": {},
     "output_type": "execute_result"
    }
   ],
   "source": [
    "norm(uₑ.(x[2:end-1], t[end]) - u[:, end])"
   ]
  },
  {
   "cell_type": "code",
   "execution_count": 31,
   "id": "33a2b2a7-ab30-4717-9aa7-0f05eec31ed1",
   "metadata": {},
   "outputs": [
    {
     "data": {
      "text/plain": [
       "BenchmarkTools.Trial: 64 samples with 1 evaluation.\n",
       " Range \u001b[90m(\u001b[39m\u001b[36m\u001b[1mmin\u001b[22m\u001b[39m … \u001b[35mmax\u001b[39m\u001b[90m):  \u001b[39m\u001b[36m\u001b[1m66.229 ms\u001b[22m\u001b[39m … \u001b[35m146.579 ms\u001b[39m  \u001b[90m┊\u001b[39m GC \u001b[90m(\u001b[39mmin … max\u001b[90m): \u001b[39m1.41% … 47.62%\n",
       " Time  \u001b[90m(\u001b[39m\u001b[34m\u001b[1mmedian\u001b[22m\u001b[39m\u001b[90m):     \u001b[39m\u001b[34m\u001b[1m75.086 ms               \u001b[22m\u001b[39m\u001b[90m┊\u001b[39m GC \u001b[90m(\u001b[39mmedian\u001b[90m):    \u001b[39m1.84%\n",
       " Time  \u001b[90m(\u001b[39m\u001b[32m\u001b[1mmean\u001b[22m\u001b[39m ± \u001b[32mσ\u001b[39m\u001b[90m):   \u001b[39m\u001b[32m\u001b[1m78.380 ms\u001b[22m\u001b[39m ± \u001b[32m 14.074 ms\u001b[39m  \u001b[90m┊\u001b[39m GC \u001b[90m(\u001b[39mmean ± σ\u001b[90m):  \u001b[39m6.74% ± 10.39%\n",
       "\n",
       "  \u001b[39m \u001b[39m \u001b[39m \u001b[39m \u001b[39m▃\u001b[39m▂\u001b[39m \u001b[39m \u001b[34m█\u001b[39m\u001b[39m▃\u001b[39m \u001b[32m \u001b[39m\u001b[39m \u001b[39m \u001b[39m \u001b[39m \u001b[39m \u001b[39m \u001b[39m \u001b[39m \u001b[39m \u001b[39m \u001b[39m \u001b[39m \u001b[39m \u001b[39m \u001b[39m \u001b[39m \u001b[39m \u001b[39m \u001b[39m \u001b[39m \u001b[39m \u001b[39m \u001b[39m \u001b[39m \u001b[39m \u001b[39m \u001b[39m \u001b[39m \u001b[39m \u001b[39m \u001b[39m \u001b[39m \u001b[39m \u001b[39m \u001b[39m \u001b[39m \u001b[39m \u001b[39m \u001b[39m \u001b[39m \u001b[39m \u001b[39m \u001b[39m \u001b[39m \u001b[39m \u001b[39m \u001b[39m \u001b[39m \u001b[39m \u001b[39m \n",
       "  \u001b[39m▃\u001b[39m▁\u001b[39m▇\u001b[39m▇\u001b[39m█\u001b[39m█\u001b[39m█\u001b[39m█\u001b[34m█\u001b[39m\u001b[39m█\u001b[39m▅\u001b[32m▃\u001b[39m\u001b[39m▆\u001b[39m▁\u001b[39m▁\u001b[39m▁\u001b[39m▃\u001b[39m▁\u001b[39m▃\u001b[39m▁\u001b[39m▁\u001b[39m▁\u001b[39m▁\u001b[39m▁\u001b[39m▁\u001b[39m▃\u001b[39m▁\u001b[39m▁\u001b[39m▁\u001b[39m▁\u001b[39m▃\u001b[39m▁\u001b[39m▁\u001b[39m▁\u001b[39m▁\u001b[39m▁\u001b[39m▁\u001b[39m▁\u001b[39m▁\u001b[39m▃\u001b[39m▁\u001b[39m▁\u001b[39m▃\u001b[39m▁\u001b[39m▁\u001b[39m▁\u001b[39m▁\u001b[39m▁\u001b[39m▁\u001b[39m▁\u001b[39m▁\u001b[39m▁\u001b[39m▁\u001b[39m▁\u001b[39m▁\u001b[39m▁\u001b[39m▁\u001b[39m▁\u001b[39m▁\u001b[39m▃\u001b[39m \u001b[39m▁\n",
       "  66.2 ms\u001b[90m         Histogram: frequency by time\u001b[39m          134 ms \u001b[0m\u001b[1m<\u001b[22m\n",
       "\n",
       " Memory estimate\u001b[90m: \u001b[39m\u001b[33m109.57 MiB\u001b[39m, allocs estimate\u001b[90m: \u001b[39m\u001b[33m37008\u001b[39m."
      ]
     },
     "execution_count": 31,
     "metadata": {},
     "output_type": "execute_result"
    }
   ],
   "source": [
    "using BenchmarkTools\n",
    "@benchmark solver(1, 0, 1, 1/512, 1/512, f, u₀)"
   ]
  },
  {
   "cell_type": "code",
   "execution_count": null,
   "id": "51ed7d06-0d72-4bb9-bd05-9efbffb66fba",
   "metadata": {},
   "outputs": [],
   "source": []
  }
 ],
 "metadata": {
  "kernelspec": {
   "display_name": "Julia 1.10.0-rc1",
   "language": "julia",
   "name": "julia-1.10"
  },
  "language_info": {
   "file_extension": ".jl",
   "mimetype": "application/julia",
   "name": "julia",
   "version": "1.10.0"
  }
 },
 "nbformat": 4,
 "nbformat_minor": 5
}
